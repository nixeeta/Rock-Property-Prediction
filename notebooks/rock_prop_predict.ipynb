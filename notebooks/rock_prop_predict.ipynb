{
 "cells": [
  {
   "cell_type": "code",
   "execution_count": null,
   "id": "8e434ae4",
   "metadata": {
    "vscode": {
     "languageId": "plaintext"
    }
   },
   "outputs": [],
   "source": [
    "# 1_data_preprocessing.py\n",
    "\n",
    "import pandas as pd\n",
    "from sklearn.model_selection import train_test_split\n",
    "from sklearn.preprocessing import LabelEncoder\n",
    "\n",
    "def load_and_preprocess_data(filepath):\n",
    "    # Load dataset\n",
    "    df = pd.read_csv(filepath)\n",
    "\n",
    "    # Encode categorical columns\n",
    "    le = LabelEncoder()\n",
    "    for column in df.select_dtypes(include=['object']).columns:\n",
    "        df[column] = le.fit_transform(df[column])\n",
    "    \n",
    "    # Define features and target\n",
    "    X = df.drop(\"Performance Index\", axis=1)\n",
    "    y = df[\"Performance Index\"]\n",
    "\n",
    "    # Split into train and test sets\n",
    "    return train_test_split(X, y, test_size=0.2, random_state=42)"
   ]
  },
  {
   "cell_type": "code",
   "execution_count": null,
   "id": "28f0ede7",
   "metadata": {
    "vscode": {
     "languageId": "plaintext"
    }
   },
   "outputs": [],
   "source": [
    "# 2_model_training_and_evaluation.py\n",
    "\n",
    "from sklearn.linear_model import LogisticRegression\n",
    "from sklearn.ensemble import RandomForestClassifier\n",
    "from sklearn.metrics import accuracy_score, classification_report\n",
    "\n",
    "def train_and_evaluate_models(X_train, X_test, y_train, y_test):\n",
    "    models = {\n",
    "        \"Logistic Regression\": LogisticRegression(max_iter=1000),\n",
    "        \"Random Forest\": RandomForestClassifier(n_estimators=100, random_state=42)\n",
    "    }\n",
    "\n",
    "    results = {}\n",
    "\n",
    "    for name, model in models.items():\n",
    "        model.fit(X_train, y_train)\n",
    "        y_pred = model.predict(X_test)\n",
    "        acc = accuracy_score(y_test, y_pred)\n",
    "        report = classification_report(y_test, y_pred, output_dict=True)\n",
    "        results[name] = {\"accuracy\": acc, \"report\": report, \"model\": model}\n",
    "\n",
    "    return results\n"
   ]
  },
  {
   "cell_type": "code",
   "execution_count": null,
   "id": "6a99a220",
   "metadata": {
    "vscode": {
     "languageId": "plaintext"
    }
   },
   "outputs": [],
   "source": [
    "# 3_visualizations.py\n",
    "\n",
    "import matplotlib.pyplot as plt\n",
    "import seaborn as sns\n",
    "\n",
    "def plot_feature_importance(model, feature_names):\n",
    "    if hasattr(model, \"feature_importances_\"):\n",
    "        importance = model.feature_importances_\n",
    "        sorted_idx = importance.argsort()\n",
    "        plt.figure(figsize=(10, 6))\n",
    "        sns.barplot(x=importance[sorted_idx], y=[feature_names[i] for i in sorted_idx])\n",
    "        plt.title(\"Feature Importances\")\n",
    "        plt.xlabel(\"Importance\")\n",
    "        plt.ylabel(\"Feature\")\n",
    "        plt.tight_layout()\n",
    "        plt.show()\n",
    "\n",
    "def plot_accuracy_comparison(results):\n",
    "    model_names = list(results.keys())\n",
    "    accuracies = [results[name][\"accuracy\"] for name in model_names]\n",
    "\n",
    "    plt.figure(figsize=(8, 5))\n",
    "    sns.barplot(x=model_names, y=accuracies, palette=\"Set2\")\n",
    "    plt.title(\"Model Accuracy Comparison\")\n",
    "    plt.ylabel(\"Accuracy\")\n",
    "    plt.ylim(0, 1)\n",
    "    plt.tight_layout()\n",
    "    plt.show()"
   ]
  }
 ],
 "metadata": {
  "language_info": {
   "name": "python"
  }
 },
 "nbformat": 4,
 "nbformat_minor": 5
}
